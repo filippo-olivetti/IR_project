{
 "cells": [
  {
   "cell_type": "markdown",
   "metadata": {},
   "source": [
    "# Vector Space Model \n",
    "### Filippo Olivetti"
   ]
  },
  {
   "cell_type": "markdown",
   "metadata": {},
   "source": [
    "## 1. Corpus preprocessing"
   ]
  },
  {
   "cell_type": "code",
   "execution_count": 1,
   "metadata": {},
   "outputs": [
    {
     "name": "stderr",
     "output_type": "stream",
     "text": [
      "[nltk_data] Downloading package punkt to /home/pippo/nltk_data...\n",
      "[nltk_data]   Package punkt is already up-to-date!\n"
     ]
    }
   ],
   "source": [
    "# Importing dependancy libraries\n",
    "import os\n",
    "import pandas as pd\n",
    "import numpy as np\n",
    "import re\n",
    "import math as m\n",
    "from collections import Counter\n",
    "import matplotlib.pyplot as plt\n",
    "\n",
    "import pickle\n",
    "\n",
    "from text_preprocessing import corpus_preprocessing\n",
    "from create_index import create_index\n",
    "from query_processing import search, vectorize_query"
   ]
  },
  {
   "cell_type": "code",
   "execution_count": 2,
   "metadata": {},
   "outputs": [],
   "source": [
    "# Defining global variables for directories\n",
    "source_file=os.getcwd()+\"/data\"\n",
    "preprocessed_source_file=os.getcwd()+\"/queries\"\n",
    "path=os.getcwd()\n",
    "\n",
    "if not os.path.isdir(preprocessed_source_file):\n",
    "    os.mkdir(preprocessed_source_file)\n"
   ]
  },
  {
   "cell_type": "markdown",
   "metadata": {},
   "source": [
    "**Preprocessing Steps:**\n",
    "We will do the following steps for both body text and zone text\n",
    "\n",
    "- Transform the input text to lowercase.\n",
    "- Remove punctuation, numbers.\n",
    "- Exclude words with one or two characters in length.\n",
    "- Perform Stemming.\n",
    "- Tokenize words and add them to dictionary doc_id\n",
    "- Eliminate stopwords.\n"
   ]
  },
  {
   "cell_type": "markdown",
   "metadata": {},
   "source": [
    "The $\\texttt{corpus\\_preprocessing}$ function has the $\\texttt{use\\_zones}$ boolean variable that allows to consider title and bodies as distinct text portions. This will be useful when evaluating a query (more importance can be given if query is better aligned with a title)."
   ]
  },
  {
   "cell_type": "code",
   "execution_count": null,
   "metadata": {},
   "outputs": [],
   "source": [
    "location = source_file + '/text_data.txt'\n",
    "corpus_preprocessing(location)\n",
    "\"\"\"\n",
    "    Do a preprocessing on each document of the corpus\n",
    "    :param location: address to the text corpus\n",
    "    :return: None\n",
    "    \"\"\""
   ]
  },
  {
   "cell_type": "markdown",
   "metadata": {},
   "source": [
    "### Creating tf-idf dictionary."
   ]
  },
  {
   "cell_type": "markdown",
   "metadata": {},
   "source": [
    "Build $\\texttt{DF}$ dictionary with pairs $\\texttt{(token, number of occurences)}$."
   ]
  },
  {
   "cell_type": "markdown",
   "metadata": {},
   "source": [
    "Here I calculate the $\\texttt{tf\\_idf}= \\texttt{tf}\\times \\texttt{idf}$ dictionary with all pairs $(\\texttt{token, tf\\_idf})$ where $$\\texttt{tf}=\\frac{\\texttt{freq}_{t,d}}{\\texttt{len}(d)}$$\n",
    " with $t$ token, $d$ document and $\\texttt{freq}_{t,d}$ is the number of occurence of token $t$ in the document $d$;\n",
    "$$\n",
    "idf_t= \\log \\frac{N}{df_t}, \n",
    "$$ \n",
    "with $t$ token, $N$ number of docs and $df_t$ the document frequency of the token $t$.\n",
    "\n",
    "Indexes are created for both title and body zones."
   ]
  },
  {
   "cell_type": "code",
   "execution_count": null,
   "metadata": {},
   "outputs": [],
   "source": [
    "# Store indexes and documents vector in pkl files\n",
    "create_index()"
   ]
  },
  {
   "cell_type": "code",
   "execution_count": 3,
   "metadata": {},
   "outputs": [],
   "source": [
    "# Importing the stored files\n",
    "words = pd.read_pickle(r'./Storage/words.pkl')  # list of tokens found\n",
    "idf = pd.read_pickle(r'./Storage/inv_doc_freq.pkl') # dict with idf scores for each token\n",
    "\n",
    "# dict: for each document there is the vector representation in VSM\n",
    "doc_vector = pd.read_pickle('./Storage/doc_vec.pkl', 'bz2')\n",
    "\n",
    "# dict: for each documente there is its TITLE as string\n",
    "zone = pd.read_pickle(r'./Storage/zone.pkl')\n",
    "\n",
    "# dict: for each document TITLE there is the vector representation in VSM \n",
    "zone_vec = pd.read_pickle(r'./Storage/zone_vec.pkl')"
   ]
  },
  {
   "cell_type": "code",
   "execution_count": 4,
   "metadata": {},
   "outputs": [
    {
     "name": "stdout",
     "output_type": "stream",
     "text": [
      "Number of documents in the corpus is 445\n"
     ]
    },
    {
     "data": {
      "text/plain": [
       "{12: 'Anarchism',\n",
       " 25: 'Autism',\n",
       " 39: 'Albedo',\n",
       " 290: 'A',\n",
       " 303: 'Alabama',\n",
       " 305: 'Achilles',\n",
       " 307: 'Abraham Lincoln',\n",
       " 308: 'Aristotle',\n",
       " 309: 'An American in Paris',\n",
       " 316: 'Academy Award for Best Production Design',\n",
       " 324: 'Academy Awards',\n",
       " 330: 'Actrius',\n",
       " 332: 'Animalia (book)',\n",
       " 334: 'International Atomic Time',\n",
       " 336: 'Altruism',\n",
       " 339: 'Ayn Rand',\n",
       " 340: 'Alain Connes',\n",
       " 344: 'Allan Dwan',\n",
       " 358: 'Algeria',\n",
       " 359: 'List of Atlas Shrugged characters',\n",
       " 569: 'Anthropology',\n",
       " 572: 'Agricultural science',\n",
       " 573: 'Alchemy',\n",
       " 580: 'Astronomer',\n",
       " 586: 'ASCII',\n",
       " 593: 'Animation',\n",
       " 594: 'Apollo',\n",
       " 595: 'Andre Agassi',\n",
       " 597: 'Austroasiatic languages',\n",
       " 599: 'Afroasiatic languages',\n",
       " 600: 'Andorra',\n",
       " 612: 'Arithmetic mean',\n",
       " 615: 'American Football Conference',\n",
       " 620: 'Animal Farm',\n",
       " 621: 'Amphibian',\n",
       " 624: 'Alaska',\n",
       " 627: 'Agriculture',\n",
       " 628: 'Aldous Huxley',\n",
       " 630: 'Ada',\n",
       " 633: 'Algae',\n",
       " 634: 'Analysis of variance',\n",
       " 639: 'Alkane',\n",
       " 640: 'Appellate procedure in the United States',\n",
       " 642: 'Answer',\n",
       " 643: 'Appellate court',\n",
       " 649: 'Arraignment',\n",
       " 651: 'America the Beautiful',\n",
       " 653: 'Assistive technology',\n",
       " 655: 'Abacus',\n",
       " 656: 'Acid',\n",
       " 657: 'Asphalt',\n",
       " 659: 'American National Standards Institute',\n",
       " 662: 'Apollo 11',\n",
       " 663: 'Apollo 8',\n",
       " 664: 'Astronaut',\n",
       " 665: 'A Modest Proposal',\n",
       " 666: 'Alkali metal',\n",
       " 670: 'Alphabet',\n",
       " 673: 'Atomic number',\n",
       " 674: 'Anatomy',\n",
       " 675: 'Affirming the consequent',\n",
       " 676: 'Andrei Tarkovsky',\n",
       " 677: 'Ambiguity',\n",
       " 679: 'Animal (disambiguation)',\n",
       " 680: 'Aardvark',\n",
       " 681: 'Aardwolf',\n",
       " 682: 'Adobe',\n",
       " 683: 'Adventure',\n",
       " 689: 'Asia',\n",
       " 690: 'Aruba',\n",
       " 691: 'Articles of Confederation',\n",
       " 694: 'Asia Minor (disambiguation)',\n",
       " 696: 'Aa River',\n",
       " 698: 'Atlantic Ocean',\n",
       " 700: 'Arthur Schopenhauer',\n",
       " 701: 'Angola',\n",
       " 704: 'Demographics of Angola',\n",
       " 705: 'Politics of Angola',\n",
       " 706: 'Economy of Angola',\n",
       " 708: 'Transport in Angola',\n",
       " 709: 'Angolan Armed Forces',\n",
       " 710: 'Foreign relations of Angola',\n",
       " 711: 'Albert Sidney Johnston',\n",
       " 713: 'Android (robot)',\n",
       " 717: 'Alberta',\n",
       " 728: 'List of anthropologists',\n",
       " 734: 'Actinopterygii',\n",
       " 736: 'Albert Einstein',\n",
       " 737: 'Afghanistan',\n",
       " 738: 'Albania',\n",
       " 740: 'Allah',\n",
       " 742: 'Algorithms (journal)',\n",
       " 746: 'Azerbaijan',\n",
       " 748: 'Amateur astronomy',\n",
       " 751: 'Aikido',\n",
       " 752: 'Art',\n",
       " 764: 'Agnostida',\n",
       " 765: 'Abortion',\n",
       " 766: 'Abstract (law)',\n",
       " 771: 'American Revolutionary War',\n",
       " 772: 'Ampere',\n",
       " 775: 'Algorithm',\n",
       " 777: 'Annual plant',\n",
       " 779: 'Anthophyta',\n",
       " 780: 'Atlas (disambiguation)',\n",
       " 782: 'Mouthwash',\n",
       " 783: 'Alexander the Great',\n",
       " 784: 'Alfred Korzybski',\n",
       " 785: 'Asteroids (video game)',\n",
       " 786: 'Asparagales',\n",
       " 787: 'Alismatales',\n",
       " 788: 'Apiales',\n",
       " 789: 'Asterales',\n",
       " 791: 'Asteroid',\n",
       " 794: 'Allocution',\n",
       " 795: 'Affidavit',\n",
       " 798: 'Aries (constellation)',\n",
       " 799: 'Aquarius (constellation)',\n",
       " 800: 'Anime',\n",
       " 802: 'Ankara',\n",
       " 803: 'Arabic',\n",
       " 808: 'Alfred Hitchcock',\n",
       " 809: 'Anaconda',\n",
       " 824: 'Altaic languages',\n",
       " 825: 'Austrian German',\n",
       " 840: 'Axiom of choice',\n",
       " 841: 'Attila',\n",
       " 842: 'Aegean Sea',\n",
       " 843: 'A Clockwork Orange',\n",
       " 844: 'Amsterdam',\n",
       " 846: 'Museum of Work',\n",
       " 848: 'Audi',\n",
       " 849: 'Aircraft',\n",
       " 851: 'Alfred Nobel',\n",
       " 852: 'Alexander Graham Bell',\n",
       " 854: 'Anatolia',\n",
       " 856: 'Apple Inc.',\n",
       " 857: 'Aberdeenshire',\n",
       " 859: 'Aztlan Underground',\n",
       " 863: 'American Civil War',\n",
       " 864: 'Andy Warhol',\n",
       " 868: 'Alp Arslan',\n",
       " 869: 'American Film Institute',\n",
       " 872: 'Akira Kurosawa',\n",
       " 874: 'Ancient Egypt',\n",
       " 875: 'Analog Brothers',\n",
       " 876: 'Motor neuron disease',\n",
       " 877: 'Abjad',\n",
       " 878: 'Abugida',\n",
       " 880: 'ABBA',\n",
       " 881: 'Allegiance',\n",
       " 887: 'MessagePad',\n",
       " 888: 'A. E. van Vogt',\n",
       " 890: 'Anna Kournikova',\n",
       " 892: 'Alfons Maria Jakob',\n",
       " 894: 'Agnosticism',\n",
       " 896: 'Argon',\n",
       " 897: 'Arsenic',\n",
       " 898: 'Antimony',\n",
       " 899: 'Actinium',\n",
       " 900: 'Americium',\n",
       " 901: 'Astatine',\n",
       " 902: 'Atom',\n",
       " 903: 'Arable land',\n",
       " 904: 'Aluminium',\n",
       " 905: 'Advanced Chemistry',\n",
       " 909: 'Anglican Communion',\n",
       " 910: 'Arne Kaijser',\n",
       " 911: 'Archipelago',\n",
       " 914: 'Author',\n",
       " 915: 'Andrey Markov',\n",
       " 921: 'Angst',\n",
       " 922: 'Anxiety',\n",
       " 924: 'A. A. Milne',\n",
       " 925: 'Asociación Alumni',\n",
       " 928: 'Axiom',\n",
       " 929: 'Alpha',\n",
       " 930: 'Alvin Toffler',\n",
       " 931: 'The Amazing Spider-Man',\n",
       " 951: 'Antigua and Barbuda',\n",
       " 953: 'Azincourt',\n",
       " 954: 'Albert Speer',\n",
       " 956: 'Asteraceae',\n",
       " 957: 'Apiaceae',\n",
       " 958: 'Axon',\n",
       " 960: 'Aramaic alphabet',\n",
       " 966: 'American shot',\n",
       " 967: 'Acute disseminated encephalomyelitis',\n",
       " 969: 'Ataxia',\n",
       " 972: 'Abdul Alhazred',\n",
       " 974: 'Ada Lovelace',\n",
       " 980: 'August Derleth',\n",
       " 981: 'Alps',\n",
       " 983: 'Albert Camus',\n",
       " 984: 'Agatha Christie',\n",
       " 986: 'The Plague',\n",
       " 988: 'Applied ethics',\n",
       " 991: 'Absolute value',\n",
       " 993: 'Analog signal',\n",
       " 994: 'Arecales',\n",
       " 1000: 'Hercule Poirot',\n",
       " 1002: 'Miss Marple',\n",
       " 1004: 'April',\n",
       " 1005: 'August',\n",
       " 1006: 'Aaron',\n",
       " 1008: 'April 6',\n",
       " 1009: 'April 12',\n",
       " 1010: 'April 15',\n",
       " 1011: 'April 30',\n",
       " 1012: 'August 22',\n",
       " 1013: 'August 27',\n",
       " 1014: 'Alcohol',\n",
       " 1016: 'Achill Island',\n",
       " 1017: 'Allen Ginsberg',\n",
       " 1018: 'Algebraically closed field',\n",
       " 1019: 'August 6',\n",
       " 1020: 'Anatoly Karpov',\n",
       " 1021: 'Aspect ratio',\n",
       " 1022: 'Auto racing',\n",
       " 1023: 'Anarcho-capitalism',\n",
       " 1027: 'August 9',\n",
       " 1028: 'Aristophanes',\n",
       " 1029: 'Albert Schweitzer',\n",
       " 1030: 'Austrian School',\n",
       " 1032: 'Abscess',\n",
       " 1036: 'Aalborg Municipality',\n",
       " 1038: 'Aarhus',\n",
       " 1043: 'Northern cavefish',\n",
       " 1049: 'Amateur',\n",
       " 1051: 'Alexis Carrel',\n",
       " 1055: \"All Souls' Day\",\n",
       " 1057: 'Anatole France',\n",
       " 1058: 'André Gide',\n",
       " 1063: 'Algorithms for calculating variance',\n",
       " 1064: 'Almond',\n",
       " 1069: 'Demographics of Antigua and Barbuda',\n",
       " 1070: 'Politics of Antigua and Barbuda',\n",
       " 1072: 'Telecommunications in Antigua and Barbuda',\n",
       " 1074: 'Royal Antigua and Barbuda Defence Force',\n",
       " 1078: 'Antisemitism',\n",
       " 1081: 'Economy of Azerbaijan',\n",
       " 1082: 'Geography of Azerbaijan',\n",
       " 1087: 'Foreign relations of Azerbaijan',\n",
       " 1088: 'Azerbaijani Armed Forces',\n",
       " 1091: 'Geography of Armenia',\n",
       " 1092: 'Demographics of Armenia',\n",
       " 1093: 'Politics of Armenia',\n",
       " 1094: 'Economy of Armenia',\n",
       " 1096: 'Transport in Armenia',\n",
       " 1097: 'Armed Forces of Armenia',\n",
       " 1098: 'Foreign relations of Armenia',\n",
       " 1109: 'Geography of American Samoa',\n",
       " 1110: 'Demographics of American Samoa',\n",
       " 1111: 'Politics of American Samoa',\n",
       " 1112: 'Economy of American Samoa',\n",
       " 1129: 'August 13',\n",
       " 1130: 'Avicenna',\n",
       " 1132: 'The Ashes',\n",
       " 1134: 'Analysis',\n",
       " 1135: 'Abner Doubleday',\n",
       " 1136: \"America's National Game\",\n",
       " 1140: 'Amplitude modulation',\n",
       " 1141: 'Augustin-Jean Fresnel',\n",
       " 1143: 'Abbot',\n",
       " 1144: 'Ardipithecus',\n",
       " 1146: 'Assembly line',\n",
       " 1148: 'Adelaide',\n",
       " 1152: 'Alan Garner',\n",
       " 1154: 'August 2',\n",
       " 1158: 'Algebraic number',\n",
       " 1160: 'Automorphism',\n",
       " 1162: 'Accordion',\n",
       " 1164: 'Artificial intelligence',\n",
       " 1166: 'Afro Celt Sound System',\n",
       " 1167: 'Ancient philosophy',\n",
       " 1168: 'Anaximander',\n",
       " 1170: 'Architect',\n",
       " 1171: 'Abbreviation',\n",
       " 1174: 'Aphrodite',\n",
       " 1175: 'April 1',\n",
       " 1176: 'Antisymmetric relation',\n",
       " 1177: 'Aleister Crowley',\n",
       " 1178: 'Afterlife',\n",
       " 1181: 'Astrometry',\n",
       " 1182: 'Athena',\n",
       " 1183: 'Amber Diceless Roleplaying Game',\n",
       " 1187: 'Alloy',\n",
       " 1192: 'Artistic revolution',\n",
       " 1193: 'Agrarianism',\n",
       " 1196: 'Angle',\n",
       " 1198: 'Acoustics',\n",
       " 1200: 'Atomic physics',\n",
       " 1201: 'American Sign Language',\n",
       " 1202: 'Applet',\n",
       " 1203: 'Alternate history',\n",
       " 1206: 'Atomic orbital',\n",
       " 1207: 'Amino acid',\n",
       " 1208: 'Alan Turing',\n",
       " 1209: 'Area',\n",
       " 1210: 'Astronomical unit',\n",
       " 1212: 'Artist',\n",
       " 1213: 'Actaeon',\n",
       " 1214: 'Anglicanism',\n",
       " 1216: 'Athens',\n",
       " 1217: 'Anguilla',\n",
       " 1223: 'Telecommunications in Anguilla',\n",
       " 1227: 'Ashmore and Cartier Islands',\n",
       " 1234: 'Acoustic theory',\n",
       " 1235: 'Alexander Mackenzie (politician)',\n",
       " 1239: 'Ashoka',\n",
       " 1241: 'American (word)',\n",
       " 1242: 'Ada (programming language)',\n",
       " 1247: 'Alfonso Cuarón',\n",
       " 1252: 'Arianism',\n",
       " 1254: 'August 1',\n",
       " 1256: 'Antoninus Pius',\n",
       " 1259: 'August 3',\n",
       " 1260: 'Advanced Encryption Standard',\n",
       " 1261: 'April 26',\n",
       " 1262: 'Argot',\n",
       " 1264: 'Anisotropy',\n",
       " 1267: 'Alpha decay',\n",
       " 1270: 'Extreme poverty',\n",
       " 1271: 'Analytical Engine',\n",
       " 1273: 'Augustus',\n",
       " 1274: 'Geography of Antarctica',\n",
       " 1279: 'Transport in Antarctica',\n",
       " 1285: 'Geography of Alabama',\n",
       " 1286: 'List of Governors of Alabama',\n",
       " 1288: 'Apocrypha',\n",
       " 1291: 'Antarctic Treaty System',\n",
       " 1293: 'Alfred Lawson',\n",
       " 1298: 'Ames, Iowa',\n",
       " 1300: 'Abalone',\n",
       " 1301: 'Abbess',\n",
       " 1303: 'Abdominal surgery',\n",
       " 1305: 'Abensberg',\n",
       " 1306: 'Arminianism',\n",
       " 1307: 'The Alan Parsons Project',\n",
       " 1309: 'Almost all',\n",
       " 1313: 'Aromatic hydrocarbon',\n",
       " 1315: 'Abbey',\n",
       " 1316: 'Annales School',\n",
       " 1317: 'Antimatter',\n",
       " 1322: 'Casa Batlló',\n",
       " 1324: 'Park Güell',\n",
       " 1325: 'Casa Milà',\n",
       " 1327: 'Antiparticle',\n",
       " 1331: 'Arabian Prince',\n",
       " 1332: 'August 7',\n",
       " 1333: 'August 8',\n",
       " 1334: 'April 16',\n",
       " 1335: 'Associative property',\n",
       " 1336: 'Apache Software Foundation',\n",
       " 1338: 'Americans with Disabilities Act of 1990',\n",
       " 1344: 'Apple I',\n",
       " 1346: 'Apatosaurus',\n",
       " 1347: 'Allosaurus',\n",
       " 1348: 'AK-47',\n",
       " 1349: 'Atanasoff–Berry computer',\n",
       " 1354: 'Andes',\n",
       " 1356: 'Ancylopoda',\n",
       " 1358: 'Anchor',\n",
       " 1359: 'Anbar (town)',\n",
       " 1360: 'Anazarbus',\n",
       " 1361: 'Anagram',\n",
       " 1362: 'Anadyr River',\n",
       " 1363: 'André-Marie Ampère',\n",
       " 1365: 'Ammonia',\n",
       " 1366: 'Amethyst',\n",
       " 1367: 'Albertosaurus',\n",
       " 1368: 'Assembly language',\n",
       " 1369: 'Ambrosia',\n",
       " 1370: 'Ambrose',\n",
       " 1371: 'Ambracia',\n",
       " 1372: 'Amber',\n",
       " 1373: 'Amalaric',\n",
       " 1374: 'Alphorn',\n",
       " 1376: 'Army',\n",
       " 1380: 'Alligatoridae',\n",
       " 1383: 'Alder',\n",
       " 1384: 'Amos Bronson Alcott',\n",
       " 1386: 'Arachnophobia',\n",
       " 1387: 'Alabaster',\n",
       " 1389: 'Ahab',\n",
       " 1392: 'Dasyproctidae',\n",
       " 1394: 'Algol',\n",
       " 1395: 'Amazing Grace',\n",
       " 1397: 'AOL',\n",
       " 1400: 'Anno Domini',\n",
       " 1408: 'Alcuin',\n",
       " 1409: 'Angilbert',\n",
       " 1412: 'Amine',\n",
       " 1416: 'April 29',\n",
       " 1417: 'August 14',\n",
       " 1418: 'Absolute zero',\n",
       " 1419: 'Adiabatic process',\n",
       " 1422: 'Amide',\n",
       " 1423: 'Animism',\n",
       " 1425: 'Antonio Vivaldi',\n",
       " 1428: 'Adrian',\n",
       " 1433: 'Aare',\n",
       " 1435: 'Abbotsford House',\n",
       " 1436: 'Abraham',\n",
       " 1437: 'Abraxas',\n",
       " 1438: 'Absalom',\n",
       " 1440: 'Abydos, Egypt',\n",
       " 1441: 'Abydos (Hellespont)',\n",
       " 1442: 'August 15',\n",
       " 1445: 'Acacia sensu lato',\n",
       " 1446: 'Acapulco',\n",
       " 1448: 'August 16',\n",
       " 1449: 'Alan Kay',\n",
       " 1451: 'APL (programming language)',\n",
       " 1453: 'ALGOL',\n",
       " 1456: 'AWK',\n",
       " 1460: 'Asgard',\n",
       " 1461: 'Apollo program',\n",
       " 1466: 'Assault',\n",
       " 1478: 'Álfheimr',\n",
       " 1482: 'Ask and Embla',\n",
       " 1484: 'Alabama River',\n",
       " 1485: 'Alain de Lille',\n",
       " 1486: 'Alemanni',\n",
       " 1488: 'NYSE MKT',\n",
       " 1490: 'August 17',\n",
       " 1491: 'August 12',\n",
       " 1494: 'Alfred Russel Wallace',\n",
       " 1495: 'Australian Labor Party',\n",
       " 1496: 'August 18',\n",
       " 1497: 'August 19',\n",
       " 1499: 'August 21',\n",
       " 1500: \"Dodo (Alice's Adventures in Wonderland)\",\n",
       " 1505: 'Albert I',\n",
       " 1506: 'Albert II',\n",
       " 1507: 'Albert III',\n",
       " 1508: 'Albert Alcibiades, Margrave of Brandenburg-Kulmbach',\n",
       " 1509: 'Albert the Bear',\n",
       " 1513: 'Albert of Brandenburg',\n",
       " 1514: 'Albert, Duke of Prussia',\n",
       " 1519: 'August 25',\n",
       " 1520: 'Aachen',\n",
       " 1523: 'Agate',\n",
       " 1525: 'Aspirin',\n",
       " 1526: 'Abner'}"
      ]
     },
     "execution_count": 4,
     "metadata": {},
     "output_type": "execute_result"
    }
   ],
   "source": [
    "print(f'Number of documents in the corpus is {len(doc_vector)}')\n",
    "zone"
   ]
  },
  {
   "cell_type": "markdown",
   "metadata": {},
   "source": [
    "## 2. Querying the corpus"
   ]
  },
  {
   "cell_type": "markdown",
   "metadata": {},
   "source": [
    "### Query preprocessing"
   ]
  },
  {
   "cell_type": "code",
   "execution_count": 5,
   "metadata": {},
   "outputs": [],
   "source": [
    "import string\n",
    "from nltk.tokenize import word_tokenize\n",
    "from nltk.corpus import stopwords\n",
    "from nltk.stem import PorterStemmer\n",
    "\n",
    "# Initiallizing Porter Stemmer object\n",
    "st = PorterStemmer()\n",
    "\n",
    "# Intializing stopwords list\n",
    "stop_list = stopwords.words('english')\n",
    "\n",
    "def query_preprocessing(query):\n",
    "    \"\"\"\n",
    "    Remove all punctuation and special characters\n",
    "        -query: query\n",
    "    return \n",
    "        query_words: tokenized query terms as list\n",
    "    \"\"\"\n",
    "\n",
    "    query = query.lower()\n",
    "    query = query.translate(str.maketrans(string.punctuation, ' '*len(string.punctuation)))\n",
    "    query = query.translate(str.maketrans(\"‘’’–——−\", '       '))\n",
    "    query_list = [st.stem(word) for word in query.split() if word not in stop_list]\n",
    "    query = ' '.join(query_list)\n",
    "\n",
    "    # Tokenizing the query\n",
    "    query_words = []\n",
    "    query_words = word_tokenize(query)\n",
    "    query_words = list(set(query_words))\n",
    "\n",
    "    return query_words"
   ]
  },
  {
   "cell_type": "code",
   "execution_count": 6,
   "metadata": {},
   "outputs": [
    {
     "data": {
      "text/plain": [
       "['cat', 'tabl']"
      ]
     },
     "execution_count": 6,
     "metadata": {},
     "output_type": "execute_result"
    }
   ],
   "source": [
    "query_preprocessing('The cat is on the table now')"
   ]
  },
  {
   "cell_type": "markdown",
   "metadata": {},
   "source": [
    "### Query resolution"
   ]
  },
  {
   "cell_type": "markdown",
   "metadata": {},
   "source": [
    "After the preprocessing, we define the cosine similarity between two vectors using the $\\texttt{cosine\\_similarity} $ function. This function takes two numpy arrays as input and returns the cosine similarity between them. $\\texttt{cosine\\_similarity} $ is used in $\\texttt{get\\_scores} $ function that compute the query vector and return the scores with all documents.\n",
    "\n",
    "The function $\\texttt{vectorize\\_query} $ creates a vector from a preprocessed query.\n",
    "\n",
    "We will also define the $\\texttt{search}$ function, which will determine a ranked list of top k documents based on their cosine similarity with a given query.\n"
   ]
  },
  {
   "cell_type": "code",
   "execution_count": 7,
   "metadata": {},
   "outputs": [
    {
     "data": {
      "text/plain": [
       "'\\nSearching a free text query to print top 10 doc ids, with their score and title\\n    -preprocessed_query: preprocessed query\\n    -is_vec: True if query is already vectorized\\n    -imp_factor: float, should be greater than 1 if we want to give more importance to zones\\n    -use_zones: set to True to enable Zonal indexing\\n    -top: int find the first top documents satisfying the query\\nreturn: \\n    -scored_doc_ids: documents ranking\\n'"
      ]
     },
     "execution_count": 7,
     "metadata": {},
     "output_type": "execute_result"
    }
   ],
   "source": [
    "# vectorize_query(preprocessed_query)\n",
    "# cosine_similarity(x, y)\n",
    "\n",
    "# search(preprocessed_query, is_vec=False, imp_factor=1.75, top=10, use_zones=True):\n",
    "\"\"\"\n",
    "Searching a free text query to print top 10 doc ids, with their score and title\n",
    "    -preprocessed_query: preprocessed query\n",
    "    -is_vec: True if query is already vectorized\n",
    "    -imp_factor: float, should be greater than 1 if we want to give more importance to zones\n",
    "    -use_zones: set to True to enable Zonal indexing\n",
    "    -top: int find the first top documents satisfying the query\n",
    "return: \n",
    "    -scored_doc_ids: documents ranking\n",
    "\"\"\""
   ]
  },
  {
   "cell_type": "markdown",
   "metadata": {},
   "source": [
    "## 3. Vector Model Evaluation: precision and recall.\n",
    "\n",
    "For the evaluation we consider the $\\texttt{relevance.txt}$, created by myself. In this documents I create 5 queries and found in the corpus the relevant documents that talk about each query."
   ]
  },
  {
   "cell_type": "code",
   "execution_count": 8,
   "metadata": {},
   "outputs": [
    {
     "name": "stdout",
     "output_type": "stream",
     "text": [
      "   Query_ID  Relevance\n",
      "0         0       1181\n",
      "1         0       1317\n",
      "2         0        798\n",
      "3         0        799\n",
      "4         1        305\n",
      "\n",
      "Relevant docs for query 0 is: [1181, 1317, 798, 799]\n",
      "\n",
      "\n",
      "Relevant docs for query 1 is: [305, 594, 1174, 1182]\n",
      "\n",
      "\n",
      "Relevant docs for query 2 is: [863]\n",
      "\n",
      "\n",
      "Relevant docs for query 3 is: [1315, 1485, 1409, 1485, 1520, 752, 1078, 1178, 1400]\n",
      "\n",
      "\n",
      "Relevant docs for query 4 is: [627, 951, 1082]\n",
      "\n"
     ]
    }
   ],
   "source": [
    "# Get the relevance of each document for each query\n",
    "column_names = ['Query_ID', 'Relevance']\n",
    "relevance_df = pd.read_csv(f\"{path}/queries/relevance.txt\", delim_whitespace=True, names=column_names, header=1)\n",
    "relevance_df['Relevance']=relevance_df['Relevance'].astype(int)\n",
    "print(relevance_df.head())\n",
    "\n",
    "# Open file with queries created by myself\n",
    "query_file = open(path+'/queries/queries.txt', 'r')\n",
    "queries = query_file.readlines()\n",
    "query_file.close()\n",
    "\n",
    "# Preprocess each query\n",
    "for i, query in enumerate(queries):\n",
    "    queries[i] = query_preprocessing(query)\n",
    "\n",
    "# Print the (ground truth) relevant documents for each query in relevance.txt\n",
    "query_relevance_lists = []\n",
    "for query_id in range(len(queries)):\n",
    "    relevant_documents = relevance_df[relevance_df['Query_ID'] == query_id]['Relevance'].to_list()\n",
    "    query_relevance_lists.append(relevant_documents)\n",
    "    print(f'\\nRelevant docs for query {query_id} is: {relevant_documents}\\n')"
   ]
  },
  {
   "cell_type": "code",
   "execution_count": 9,
   "metadata": {},
   "outputs": [],
   "source": [
    "# Set hyperparameters, k will be use when calculating precision/recall at k, and \n",
    "# imp_factor is the importance given to the title!\n",
    "k = 7\n",
    "imp_factor = 2"
   ]
  },
  {
   "cell_type": "code",
   "execution_count": 10,
   "metadata": {},
   "outputs": [
    {
     "name": "stdout",
     "output_type": "stream",
     "text": [
      "[['studi', 'astronom', 'star', 'supernova'], ['ancient', 'greek', 'cultur', 'iliad'], ['warfar', 'trench'], ['age', 'cathol', 'religion', 'middl'], ['place', 'grow', 'orang']]\n",
      "[(580, 0.23252900317216615), (1210, 0.14338713441578474), (1181, 0.1201318537853448), (748, 0.1058280605177896), (1394, 0.08665754004785214), (799, 0.08427303413042035), (798, 0.07898525668307303), (1317, 0.06624210781297954), (1196, 0.052621819894848196)]\n",
      "[(1167, 0.08962293396455848), (874, 0.08192666317151877), (305, 0.07502034830071853), (1174, 0.06466331364561477), (689, 0.054157181699516756), (594, 0.053766128953729925), (1182, 0.053389774033817325), (929, 0.052303729691066586), (1212, 0.051040680636778635)]\n",
      "[(698, 0.037343154472463565), (1336, 0.033767051888436136), (1183, 0.0327392073219054), (863, 0.03162418749997383), (1203, 0.027353145690223242), (1376, 0.024828405956801657), (680, 0.02340117304392388), (1088, 0.022662938066070223), (1354, 0.021846965605683652), (307, 0.0213171528479345)]\n",
      "[(1092, 0.11036133738803774), (704, 0.10021576967852117), (1359, 0.09171448033420401), (1301, 0.08726031945125015), (1428, 0.07538832031429393), (951, 0.07480763284812275), (1305, 0.0741759414155133), (1436, 0.0690280521944617), (740, 0.06369871804784724), (1214, 0.0625368525174772)]\n",
      "[(843, 0.10392685440583066), (1064, 0.04725919551993979), (634, 0.0454161596780905), (1380, 0.044977484886017584), (1306, 0.04475331864146356), (787, 0.042146880691187126), (627, 0.04140939577193463), (1082, 0.04122696214151906), (798, 0.040855747410489134)]\n"
     ]
    }
   ],
   "source": [
    "# Now, use the search function, that relies on index we created at the beginning\n",
    "print(queries)\n",
    "for query_id in range(len(queries)):\n",
    "        top_k_documents = search(queries[query_id], imp_factor=imp_factor, top=10, use_zones=True)\n",
    "        print(top_k_documents)"
   ]
  },
  {
   "cell_type": "markdown",
   "metadata": {},
   "source": [
    "### R-precision"
   ]
  },
  {
   "cell_type": "code",
   "execution_count": 11,
   "metadata": {},
   "outputs": [
    {
     "data": {
      "image/png": "[encoded data removed]",
      "text/plain": [
       "<Figure size 640x480 with 1 Axes>"
      ]
     },
     "metadata": {},
     "output_type": "display_data"
    }
   ],
   "source": [
    "# Calculating the precision of the first r retrieved documents\n",
    "def r_precision(query_id, imp_factor=1.75, r=10):\n",
    "    \"\"\"\n",
    "    Calculate recall values for each query given the number of top documents to be retrieved (k).\n",
    "\n",
    "    Args:\n",
    "        k (int): Number of top documents to be retrieved.\n",
    "\n",
    "    Returns:\n",
    "        list: List of recall values for each query.\n",
    "    \"\"\"\n",
    "\n",
    "    relevant_documents = query_relevance_lists[query_id] # Solution\n",
    "    top_k_documents = search(queries[query_id], imp_factor=imp_factor, top=r, use_zones=True)\n",
    "\n",
    "    # Number of relevant documents retrieved\n",
    "    intersect_count = len([tup[0] for tup in top_k_documents if tup[0] in relevant_documents])\n",
    "    # Total number of relevant documents\n",
    "    total_relevant_documents = len(relevant_documents)\n",
    "    # Calculate recall for the current query\n",
    "    precision = intersect_count / total_relevant_documents if total_relevant_documents > 0 else 0\n",
    "\n",
    "    return precision\n",
    "\n",
    "precision_values = []\n",
    "for query_id in range(len(queries)):\n",
    "    precision_values.append(r_precision(query_id, imp_factor=imp_factor, r=len(query_relevance_lists[query_id])))\n",
    "\n",
    "# Plot r-precisions\n",
    "y=[f'query {i} with {len(query_relevance_lists[i])} ref docs' for i in range(len(queries))]\n",
    "plt.barh(y, precision_values)\n",
    "# setting label of y-axis\n",
    "plt.ylabel(\"Query\")\n",
    " \n",
    "# setting label of x-axis\n",
    "plt.xlabel(\"Precision\") \n",
    "plt.title(\"R-precision\")\n",
    "plt.show()"
   ]
  },
  {
   "cell_type": "markdown",
   "metadata": {},
   "source": [
    "### Recall at k"
   ]
  },
  {
   "cell_type": "markdown",
   "metadata": {},
   "source": [
    "In the following snippet we calculate the recall for a given k (the number of retrieved documents)."
   ]
  },
  {
   "cell_type": "code",
   "execution_count": 12,
   "metadata": {},
   "outputs": [
    {
     "data": {
      "image/png": "[encoded data removed]",
      "text/plain": [
       "<Figure size 640x480 with 1 Axes>"
      ]
     },
     "metadata": {},
     "output_type": "display_data"
    }
   ],
   "source": [
    "# Calculating recall= number of relevant documents retrieved/total number of relevant documents\n",
    "# Get the relevance of each document for each query\n",
    "def calculate_recall_at_k(imp_factor=2, k=10):\n",
    "    \"\"\"\n",
    "    Calculate recall values for each query given the number of top documents to be retrieved (k).\n",
    "\n",
    "    Args:\n",
    "        k (int): Number of top documents to be retrieved.\n",
    "\n",
    "    Returns:\n",
    "        list: List of recall values for each query.\n",
    "    \"\"\"\n",
    "    recall_values = []\n",
    "\n",
    "    for query_id in range(len(queries)):\n",
    "        relevant_documents = query_relevance_lists[query_id] # Solution\n",
    "        top_k_documents = search(queries[query_id], imp_factor=imp_factor, top=k, use_zones=True)\n",
    "\n",
    "        # Number of relevant documents retrieved\n",
    "        intersect_count = len([tup[0] for tup in top_k_documents if tup[0] in relevant_documents])\n",
    "\n",
    "        # True pos + False neg\n",
    "        total_relevant_documents = len(relevant_documents)\n",
    "\n",
    "        # Calculate recall for the current query\n",
    "        recall = intersect_count / total_relevant_documents if total_relevant_documents > 0 else 0\n",
    "        recall_values.append(recall)\n",
    "\n",
    "    return recall_values\n",
    "\n",
    "\n",
    "recall_results = calculate_recall_at_k(imp_factor=imp_factor, k=k)\n",
    "#rounding off to 2 decimal places\n",
    "recall_results = [round(num, 3) for num in recall_results]\n",
    "# Plot r-precisions\n",
    "y=[f'query {i} with {len(query_relevance_lists[i])} ref docs' for i in range(len(queries))]\n",
    "plt.barh(y, recall_results)\n",
    "# setting label of y-axis\n",
    "plt.ylabel(\"Queries\")\n",
    "\n",
    "# setting label of x-axis\n",
    "plt.xlabel(f\"Recall\") \n",
    "plt.title(f\"Recall at {k} and imp_factor {imp_factor}\")\n",
    "plt.show()"
   ]
  },
  {
   "cell_type": "markdown",
   "metadata": {},
   "source": [
    "### Precision at k"
   ]
  },
  {
   "cell_type": "markdown",
   "metadata": {},
   "source": [
    "In the following snippet we calculate the precision for a given k (the number of retrieved documents)."
   ]
  },
  {
   "cell_type": "code",
   "execution_count": 13,
   "metadata": {},
   "outputs": [],
   "source": [
    "#Calculating precision= number of relevant documents retrieved/total number of documents retrieved\n",
    "def calculate_precision_at_k(imp_factor=2, k=10):\n",
    "    \"\"\"To generate list of precision values for each query for given value of k\n",
    "    \n",
    "    Arguments:\n",
    "        k {[type]} -- number of top documents to be retrieved\n",
    "    \n",
    "    Returns:\n",
    "        list -- list of precision values for each query\n",
    "    \"\"\"\n",
    "    precision_values = []\n",
    "    for query_id in range(len(queries)):\n",
    "        relevant_documents = query_relevance_lists[query_id] # Solution\n",
    "        top_k_documents = search(queries[query_id], imp_factor=imp_factor, top=k, use_zones=True)\n",
    "\n",
    "        # Number of relevant documents retrieved\n",
    "        intersect_count = len([tup[0] for tup in top_k_documents if tup[0] in relevant_documents])\n",
    "\n",
    "        # Calculate recall for the current query\n",
    "        precision = intersect_count / k\n",
    "        precision_values.append(precision)\n",
    "\n",
    "    return precision_values"
   ]
  },
  {
   "cell_type": "code",
   "execution_count": 14,
   "metadata": {},
   "outputs": [
    {
     "data": {
      "image/png": "[encoded data removed]",
      "text/plain": [
       "<Figure size 640x480 with 1 Axes>"
      ]
     },
     "metadata": {},
     "output_type": "display_data"
    }
   ],
   "source": [
    "precision_results = calculate_recall_at_k(imp_factor=imp_factor, k=k)\n",
    "#rounding off to 2 decimal places\n",
    "precision_results = [round(num, 3) for num in precision_results]\n",
    "# Plot r-precisions\n",
    "y=[f'query {i} with {len(query_relevance_lists[i])} ref docs' for i in range(len(queries))]\n",
    "plt.barh(y, precision_results)\n",
    "# setting label of y-axis\n",
    "plt.ylabel(\"Queries\")\n",
    "\n",
    "# setting label of x-axis\n",
    "plt.xlabel(f\"Precision\") \n",
    "plt.title(f\"Precision at {k} and imp_factor {imp_factor}\")\n",
    "plt.show()"
   ]
  },
  {
   "cell_type": "markdown",
   "metadata": {},
   "source": [
    "## 4. Relevance Feedback\n",
    "\n",
    "In the following snippets I will implement the Rocchio algorithm to improve the information retrieval systems. The feedback information are given REAL-TIME by the users after having seen the query answer! "
   ]
  },
  {
   "cell_type": "code",
   "execution_count": 15,
   "metadata": {},
   "outputs": [],
   "source": [
    "# ROCCHIO ALGORITHM\n",
    "# Initializing alpha, beta, gamma values\n",
    "alpha = 1\n",
    "beta = 3 #0.75\n",
    "gamma = 0.15\n",
    "\n",
    "# Calculate centroid of relevant/irrelevant documents\n",
    "def calculate_centroid(corpus, docus_list):\n",
    "    \"\"\"\n",
    "    Calculate centroid of relevant/irrelevant documents.\n",
    "\n",
    "    Args:\n",
    "        corpus (dict): documents.\n",
    "        docus_list (list of doc_id): list of (doc_id), result of search function\n",
    "\n",
    "    Returns:\n",
    "        numpy.ndarray: Centroid vector of relevant documents.\n",
    "    \"\"\"\n",
    "    if len(docus_list) == 0:\n",
    "        return 0.\n",
    "    \n",
    "    n_docs = len(docus_list)\n",
    "    centroid = np.zeros_like(corpus[344])\n",
    "\n",
    "    for index in docus_list:\n",
    "        centroid += corpus[index]\n",
    "\n",
    "    return 1/n_docs * centroid\n",
    "\n",
    "\n",
    "def calculate_new_query_vector(query, non_relevant_docs_indexes ,alpha=1, beta=0.75, gamma=0.15):\n",
    "    \"\"\"\n",
    "    Calculate new query vector based on Rocchio algorithm.\n",
    "\n",
    "    Args:\n",
    "        query_id (int): Query ID.\n",
    "        relevant_documents_index (list): List of indexes relevant documents.\n",
    "        alpha (float): Weight for the original query vector.\n",
    "        beta (float): Weight for the centroid of relevant documents.\n",
    "        gamma (float): Weight for the centroid of non-relevant documents.\n",
    "\n",
    "    Returns:\n",
    "        numpy.ndarray: New query vector.\n",
    "    \"\"\"\n",
    "    original_query_vector = vectorize_query(query)\n",
    "    doc_list = [tup for tup in doc_vector]\n",
    "\n",
    "    # Get the list of relevant and non-relevant document IDs for the current query\n",
    "    relevant_docs_indexes= [doc_id for doc_id in doc_list if doc_id not in non_relevant_docs_indexes]\n",
    "    \n",
    "    # Calculate Rocchio algorithm components\n",
    "    relevant_centroid = calculate_centroid(doc_vector, relevant_docs_indexes)\n",
    "    non_relevant_centroid = calculate_centroid(doc_vector, non_relevant_docs_indexes)\n",
    "\n",
    "    # Calculate new query vector using Rocchio algorithm\n",
    "    new_query_vector = alpha * original_query_vector + beta * relevant_centroid - gamma * non_relevant_centroid\n",
    "\n",
    "    return new_query_vector\n"
   ]
  },
  {
   "cell_type": "markdown",
   "metadata": {},
   "source": [
    "### Interactive example"
   ]
  },
  {
   "cell_type": "markdown",
   "metadata": {},
   "source": [
    "**Write a query**"
   ]
  },
  {
   "cell_type": "code",
   "execution_count": 16,
   "metadata": {},
   "outputs": [
    {
     "name": "stdout",
     "output_type": "stream",
     "text": [
      "first world war\n",
      "['first', 'war', 'world']\n"
     ]
    }
   ],
   "source": [
    "query = input('Write a query')\n",
    "preprocessed_query = query_preprocessing(query)\n",
    "print(query)\n",
    "print(preprocessed_query)"
   ]
  },
  {
   "cell_type": "markdown",
   "metadata": {},
   "source": [
    "**See top 10 documents retrieved**"
   ]
  },
  {
   "cell_type": "code",
   "execution_count": 17,
   "metadata": {},
   "outputs": [
    {
     "name": "stdout",
     "output_type": "stream",
     "text": [
      "[(1074, 0.1612317853384445), (863, 0.13750738080623304), (771, 0.1319034637853053), (892, 0.12862642908257138), (784, 0.12188069396878759), (924, 0.10669217725537102), (705, 0.10592344197825616), (1193, 0.10279856631056003), (1110, 0.10163118140309275)]\n"
     ]
    }
   ],
   "source": [
    "top_answ = search(preprocessed_query=preprocessed_query, top=10)\n",
    "print(top_answ)"
   ]
  },
  {
   "cell_type": "code",
   "execution_count": 18,
   "metadata": {},
   "outputs": [
    {
     "name": "stdout",
     "output_type": "stream",
     "text": [
      "Title of DocID 1074 is: Royal Antigua and Barbuda Defence Force\n",
      "Title of DocID 863 is: American Civil War\n",
      "Title of DocID 771 is: American Revolutionary War\n",
      "Title of DocID 892 is: Alfons Maria Jakob\n",
      "Title of DocID 784 is: Alfred Korzybski\n",
      "Title of DocID 924 is: A. A. Milne\n",
      "Title of DocID 705 is: Politics of Angola\n",
      "Title of DocID 1193 is: Agrarianism\n",
      "Title of DocID 1110 is: Demographics of American Samoa\n"
     ]
    }
   ],
   "source": [
    "top_answ_indexes = [tup[0] for tup in top_answ]\n",
    "for i in top_answ_indexes:\n",
    "    print(f'Title of DocID {i} is: ' + str(zone[i]))"
   ]
  },
  {
   "cell_type": "markdown",
   "metadata": {},
   "source": [
    "**Perform relevance feedback!**"
   ]
  },
  {
   "cell_type": "code",
   "execution_count": 19,
   "metadata": {},
   "outputs": [
    {
     "name": "stdout",
     "output_type": "stream",
     "text": [
      "[924, 705]\n",
      "Title of DocID 848 is: Audi\n",
      "Title of DocID 752 is: Art\n",
      "Title of DocID 670 is: Alphabet\n",
      "Title of DocID 775 is: Algorithm\n",
      "Title of DocID 791 is: Asteroid\n",
      "Title of DocID 634 is: Analysis of variance\n",
      "Title of DocID 1494 is: Alfred Russel Wallace\n",
      "Title of DocID 1164 is: Artificial intelligence\n",
      "Title of DocID 1338 is: Americans with Disabilities Act of 1990\n",
      "Title of DocID 1214 is: Anglicanism\n"
     ]
    }
   ],
   "source": [
    "from IPython.display import clear_output\n",
    "\n",
    "user_input = [1]\n",
    "index = 0\n",
    "while len(user_input) > 0:\n",
    "    index += 1\n",
    "    user_input = []\n",
    "    user_input = input('Write the list of NON-relevant DocIDs; write p if you are done:')\n",
    "    if index % 3 == 0:\n",
    "        clear_output(wait=True)\n",
    "    if user_input == 'p':\n",
    "        break\n",
    "    user_input = list(map(int, user_input.split(',')))\n",
    "    print(user_input)\n",
    "    if not all(isinstance(x, int) for x in user_input):\n",
    "        continue\n",
    "\n",
    "    # Evaluate new query vector and new answers\n",
    "    new_query_vec = calculate_new_query_vector(query, user_input)\n",
    "    new_output = search(new_query_vec, is_vec=True, top=10)\n",
    "    t_indexes = [tup[0] for tup in new_output]\n",
    "    for i in t_indexes:\n",
    "        print(f'Title of DocID {i} is: ' + str(zone[i]))\n",
    "    "
   ]
  },
  {
   "cell_type": "markdown",
   "metadata": {},
   "source": [
    "Now we can evaluate the performance in the same way as before. Obviously by considering the solution as feedback and high value of $\\beta$ (which represents the weight of the centroid given by the feedback) we obtain better results."
   ]
  },
  {
   "cell_type": "markdown",
   "metadata": {},
   "source": [
    "## 5. Pseudo Relevance Feedback\n"
   ]
  },
  {
   "cell_type": "markdown",
   "metadata": {},
   "source": [
    "In the following snippet I implement the pseudo relevance feedback: the idea is to assume the top $k$ document retrieved by our vector model as feedback information and then update the query vector with this information as done before.\n",
    "\n",
    "We set the same k and imp_factor as in the model evaluation section: now precision and recall are higher!"
   ]
  },
  {
   "cell_type": "markdown",
   "metadata": {},
   "source": [
    "### Recall at k with Pseudo-feedback"
   ]
  },
  {
   "cell_type": "code",
   "execution_count": 20,
   "metadata": {},
   "outputs": [
    {
     "data": {
      "image/png": "[encoded data removed]",
      "text/plain": [
       "<Figure size 640x480 with 1 Axes>"
      ]
     },
     "metadata": {},
     "output_type": "display_data"
    }
   ],
   "source": [
    "# Calculating recall= number of relevant documents retrieved/total number of relevant documents\n",
    "\n",
    "# Get the relevance of each document for each query\n",
    "def calculate_recall_at_k_with_pseudo_feedback(imp_factor=2, k=10):\n",
    "    \"\"\"\n",
    "    Calculate recall values for each query given the number of top documents to be retrieved (k).\n",
    "\n",
    "    Args:\n",
    "        k (int): Number of top documents to be retrieved.\n",
    "\n",
    "    Returns:\n",
    "        list: List of recall values for each query.\n",
    "    \"\"\"\n",
    "    recall_values = []\n",
    "    for query_id in range(len(queries)):\n",
    "        relevant_documents = query_relevance_lists[query_id] # Solution\n",
    "        top_k_documents = search(queries[query_id], imp_factor=imp_factor, top=k, use_zones=True)\n",
    "    \n",
    "        new_query = calculate_new_query_vector(queries[query_id], [])\n",
    "\n",
    "        top_k_documents = search(new_query, is_vec=True, top=k)\n",
    "\n",
    "        # Number of relevant documents retrieved\n",
    "        intersect_count = len([tup[0] for tup in top_k_documents if tup[0] in relevant_documents])\n",
    "\n",
    "        # Total number of relevant documents\n",
    "        total_relevant_documents = len(relevant_documents)\n",
    "\n",
    "        # Calculate recall for the current query\n",
    "        recall = intersect_count / total_relevant_documents\n",
    "        recall_values.append(recall)\n",
    "\n",
    "    return recall_values\n",
    "\n",
    "#rounding off to 2 decimal places\n",
    "recall_results = [round(num, 2) for num in calculate_recall_at_k_with_pseudo_feedback(imp_factor=imp_factor, k=k)]\n",
    "\n",
    "# Plot recall pseudo-feedback\n",
    "y=[f'query {i} with {len(query_relevance_lists[i])} ref docs' for i in range(len(queries))]\n",
    "plt.barh(y, recall_results)\n",
    "# setting label of y-axis\n",
    "plt.ylabel(\"Queries\")\n",
    "\n",
    "# setting label of x-axis\n",
    "plt.xlabel(f\"Recall\") \n",
    "plt.title(f\"Recall Pseudo_Feedback at {k} and imp_factor {imp_factor}\")\n",
    "plt.show()"
   ]
  },
  {
   "cell_type": "markdown",
   "metadata": {},
   "source": [
    "### Precision at k with Pseudo-feedback"
   ]
  },
  {
   "cell_type": "code",
   "execution_count": 21,
   "metadata": {},
   "outputs": [
    {
     "data": {
      "image/png": "[encoded data removed]",
      "text/plain": [
       "<Figure size 640x480 with 1 Axes>"
      ]
     },
     "metadata": {},
     "output_type": "display_data"
    }
   ],
   "source": [
    "# Calculating recall= number of relevant documents retrieved/total number of relevant documents\n",
    "\n",
    "# Get the relevance of each document for each query\n",
    "def calculate_precision_at_k_with_pseudo_feedback(imp_factor=2, k=10):\n",
    "    \"\"\"\n",
    "    Calculate precision values for each query given the number of top documents to be retrieved (k).\n",
    "\n",
    "    Args:\n",
    "        k (int): Number of top documents to be retrieved.\n",
    "\n",
    "    Returns:\n",
    "        list: List of recall values for each query.\n",
    "    \"\"\"\n",
    "    precision_values = []\n",
    "    for query_id in range(len(queries)):\n",
    "        relevant_documents = query_relevance_lists[query_id] # Solution\n",
    "        top_k_documents = search(queries[query_id], imp_factor=imp_factor, top=k, use_zones=True)\n",
    "    \n",
    "        new_query = calculate_new_query_vector(queries[query_id], [])\n",
    "        top_k_documents = search(new_query, is_vec=True, top=k)\n",
    "\n",
    "        # Number of relevant documents retrieved\n",
    "        intersect_count = len([tup[0] for tup in top_k_documents if tup[0] in relevant_documents])\n",
    "\n",
    "        # Total number of relevant documents\n",
    "        precision = intersect_count / k\n",
    "        precision_values.append(precision)\n",
    "\n",
    "    return precision_values\n",
    "\n",
    "#rounding off to 2 decimal places\n",
    "precision_results = [round(num, 2) for num in calculate_precision_at_k_with_pseudo_feedback(imp_factor=imp_factor, k=k)]\n",
    "\n",
    "# Plot precision pseudo-feedback\n",
    "y=[f'query {i} with {len(query_relevance_lists[i])} ref docs' for i in range(len(queries))]\n",
    "plt.barh(y, precision_results)\n",
    "# setting label of y-axis\n",
    "plt.ylabel(\"Queries\")\n",
    "\n",
    "# setting label of x-axis\n",
    "plt.xlabel(f\"Precision\") \n",
    "plt.title(f\"Precision Pseudo-Feedback at {k} and imp_factor {imp_factor}\")\n",
    "plt.show()"
   ]
  }
 ],
 "metadata": {
  "kernelspec": {
   "display_name": "Python 3 (ipykernel)",
   "language": "python",
   "name": "python3"
  },
  "language_info": {
   "codemirror_mode": {
    "name": "ipython",
    "version": 3
   },
   "file_extension": ".py",
   "mimetype": "text/x-python",
   "name": "python",
   "nbconvert_exporter": "python",
   "pygments_lexer": "ipython3",
   "version": "3.10.12"
  }
 },
 "nbformat": 4,
 "nbformat_minor": 2
}
